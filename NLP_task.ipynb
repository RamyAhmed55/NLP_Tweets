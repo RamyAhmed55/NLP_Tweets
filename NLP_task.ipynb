{
  "cells": [
    {
      "cell_type": "markdown",
      "metadata": {},
      "source": [
        "\n",
        "<p style=\"font-family: 'Times New Roman'; color: pink; font-size: 250%; text-align: center; border-radius: 20px 60px;\">\n",
        "    Dataset\n",
        "\n",
        "</p>\n",
        "\n",
        "\n",
        "### Dataset link: [Sentiment140](http://help.sentiment140.com/for-students/)"
      ]
    },
    {
      "cell_type": "code",
      "execution_count": 1,
      "metadata": {},
      "outputs": [],
      "source": [
        "import pandas as pd\n",
        "import numpy as np"
      ]
    },
    {
      "cell_type": "code",
      "execution_count": null,
      "metadata": {
        "colab": {
          "base_uri": "https://localhost:8080/"
        },
        "id": "FckTkNZyMqJw",
        "outputId": "0eb78a1b-f5ff-4a8f-b740-ab419b98e42f"
      },
      "outputs": [
        {
          "name": "stdout",
          "output_type": "stream",
          "text": [
            "(20000, 6)\n",
            "Training set: (1600000, 6)\n",
            "     target          id                          date      flag  \\\n",
            "0  negative  1467810369  Mon Apr 06 22:19:45 PDT 2009  NO_QUERY   \n",
            "1  negative  1467810672  Mon Apr 06 22:19:49 PDT 2009  NO_QUERY   \n",
            "2  negative  1467810917  Mon Apr 06 22:19:53 PDT 2009  NO_QUERY   \n",
            "3  negative  1467811184  Mon Apr 06 22:19:57 PDT 2009  NO_QUERY   \n",
            "4  negative  1467811193  Mon Apr 06 22:19:57 PDT 2009  NO_QUERY   \n",
            "\n",
            "              user                                               text  \n",
            "0  _TheSpecialOne_  @switchfoot http://twitpic.com/2y1zl - Awww, t...  \n",
            "1    scotthamilton  is upset that he can't update his Facebook by ...  \n",
            "2         mattycus  @Kenichan I dived many times for the ball. Man...  \n",
            "3          ElleCTF    my whole body feels itchy and like its on fire   \n",
            "4           Karoli  @nationwideclass no, it's not behaving at all....  \n",
            "Test set: (498, 6)\n",
            "     target  id                          date     flag      user  \\\n",
            "0  positive   3  Mon May 11 03:17:40 UTC 2009  kindle2    tpryan   \n",
            "1  positive   4  Mon May 11 03:18:03 UTC 2009  kindle2    vcu451   \n",
            "2  positive   5  Mon May 11 03:18:54 UTC 2009  kindle2    chadfu   \n",
            "3  positive   6  Mon May 11 03:19:04 UTC 2009  kindle2     SIX15   \n",
            "4  positive   7  Mon May 11 03:21:41 UTC 2009  kindle2  yamarama   \n",
            "\n",
            "                                                text  \n",
            "0  @stellargirl I loooooooovvvvvveee my Kindle2. ...  \n",
            "1  Reading my kindle2...  Love it... Lee childs i...  \n",
            "2  Ok, first assesment of the #kindle2 ...it fuck...  \n",
            "3  @kenburbary You'll love your Kindle2. I've had...  \n",
            "4  @mikefish  Fair enough. But i have the Kindle2...  \n"
          ]
        }
      ],
      "source": [
        "import pandas as pd\n",
        "\n",
        "import pandas as pd\n",
        "import zipfile\n",
        "import os\n",
        "import requests\n",
        "\n",
        "\n",
        "# Step 3: Load training data\n",
        "file_path = \"training.1600000.processed.noemoticon.csv\"\n",
        "\n",
        "df = pd.read_csv(file_path, encoding=\"latin-1\", header=None)\n",
        "df.columns = [\"target\", \"id\", \"date\", \"flag\", \"user\", \"text\"]\n",
        "\n",
        "# Map sentiment labels: 0 = negative, 4 = positive\n",
        "df[\"target\"] = df[\"target\"].map({0: \"negative\", 4: \"positive\"})\n",
        "\n",
        "# Optional: sample a smaller dataset for quicker experiments\n",
        "df = df.sample(20000, random_state=42).reset_index(drop=True)\n",
        "\n",
        "# Preview the data\n",
        "print(df.shape)\n",
        "df.head()\n",
        "\n",
        "\n",
        "# Load training set\n",
        "train_path = \"training.1600000.processed.noemoticon.csv\"\n",
        "train_df = pd.read_csv(train_path, encoding=\"latin-1\", header=None)\n",
        "train_df.columns = [\"target\", \"id\", \"date\", \"flag\", \"user\", \"text\"]\n",
        "train_df[\"target\"] = train_df[\"target\"].map({0: \"negative\", 4: \"positive\"})\n",
        "\n",
        "print(\"Training set:\", train_df.shape)\n",
        "print(train_df.head())\n",
        "\n",
        "# Load manual test set\n",
        "test_path = \"testdata.manual.2009.06.14.csv\"\n",
        "test_df = pd.read_csv(test_path, encoding=\"latin-1\", header=None)\n",
        "test_df.columns = [\"target\", \"id\", \"date\", \"flag\", \"user\", \"text\"]\n",
        "\n",
        "# This test set has labels 0 (negative), 2 (neutral), 4 (positive)\n",
        "test_df[\"target\"] = test_df[\"target\"].map({0: \"negative\", 2: \"neutral\", 4: \"positive\"})\n",
        "\n",
        "print(\"Test set:\", test_df.shape)\n",
        "print(test_df.head())\n"
      ]
    },
    {
      "cell_type": "code",
      "execution_count": 3,
      "metadata": {
        "id": "jZgsBciEMrFj"
      },
      "outputs": [
        {
          "data": {
            "text/html": [
              "<div>\n",
              "<style scoped>\n",
              "    .dataframe tbody tr th:only-of-type {\n",
              "        vertical-align: middle;\n",
              "    }\n",
              "\n",
              "    .dataframe tbody tr th {\n",
              "        vertical-align: top;\n",
              "    }\n",
              "\n",
              "    .dataframe thead th {\n",
              "        text-align: right;\n",
              "    }\n",
              "</style>\n",
              "<table border=\"1\" class=\"dataframe\">\n",
              "  <thead>\n",
              "    <tr style=\"text-align: right;\">\n",
              "      <th></th>\n",
              "      <th>target</th>\n",
              "      <th>id</th>\n",
              "      <th>date</th>\n",
              "      <th>flag</th>\n",
              "      <th>user</th>\n",
              "      <th>text</th>\n",
              "    </tr>\n",
              "  </thead>\n",
              "  <tbody>\n",
              "    <tr>\n",
              "      <th>625485</th>\n",
              "      <td>negative</td>\n",
              "      <td>2230257374</td>\n",
              "      <td>Thu Jun 18 16:51:36 PDT 2009</td>\n",
              "      <td>NO_QUERY</td>\n",
              "      <td>jessdelmedico</td>\n",
              "      <td>@coleybell yeahh dont worry you will! and awww...</td>\n",
              "    </tr>\n",
              "    <tr>\n",
              "      <th>1281121</th>\n",
              "      <td>positive</td>\n",
              "      <td>2001704312</td>\n",
              "      <td>Tue Jun 02 01:47:07 PDT 2009</td>\n",
              "      <td>NO_QUERY</td>\n",
              "      <td>AstoriaFromHell</td>\n",
              "      <td>@Mulciber_ ooc: speaking of smut, I'm off to a...</td>\n",
              "    </tr>\n",
              "    <tr>\n",
              "      <th>371132</th>\n",
              "      <td>negative</td>\n",
              "      <td>2050339888</td>\n",
              "      <td>Fri Jun 05 18:29:44 PDT 2009</td>\n",
              "      <td>NO_QUERY</td>\n",
              "      <td>gennaaaaay</td>\n",
              "      <td>@racheellloviin i missss you too bestfriend ! ...</td>\n",
              "    </tr>\n",
              "    <tr>\n",
              "      <th>704745</th>\n",
              "      <td>negative</td>\n",
              "      <td>2256148755</td>\n",
              "      <td>Sat Jun 20 12:20:05 PDT 2009</td>\n",
              "      <td>NO_QUERY</td>\n",
              "      <td>ashiena</td>\n",
              "      <td>http://twitpic.com/7xd9s - Time to make the br...</td>\n",
              "    </tr>\n",
              "    <tr>\n",
              "      <th>941681</th>\n",
              "      <td>positive</td>\n",
              "      <td>1794326958</td>\n",
              "      <td>Thu May 14 05:32:54 PDT 2009</td>\n",
              "      <td>NO_QUERY</td>\n",
              "      <td>mikDC</td>\n",
              "      <td>@ariestotle yeap, twice  HAHAHA. Ang hot talag...</td>\n",
              "    </tr>\n",
              "  </tbody>\n",
              "</table>\n",
              "</div>"
            ],
            "text/plain": [
              "           target          id                          date      flag  \\\n",
              "625485   negative  2230257374  Thu Jun 18 16:51:36 PDT 2009  NO_QUERY   \n",
              "1281121  positive  2001704312  Tue Jun 02 01:47:07 PDT 2009  NO_QUERY   \n",
              "371132   negative  2050339888  Fri Jun 05 18:29:44 PDT 2009  NO_QUERY   \n",
              "704745   negative  2256148755  Sat Jun 20 12:20:05 PDT 2009  NO_QUERY   \n",
              "941681   positive  1794326958  Thu May 14 05:32:54 PDT 2009  NO_QUERY   \n",
              "\n",
              "                    user                                               text  \n",
              "625485     jessdelmedico  @coleybell yeahh dont worry you will! and awww...  \n",
              "1281121  AstoriaFromHell  @Mulciber_ ooc: speaking of smut, I'm off to a...  \n",
              "371132        gennaaaaay  @racheellloviin i missss you too bestfriend ! ...  \n",
              "704745           ashiena  http://twitpic.com/7xd9s - Time to make the br...  \n",
              "941681             mikDC  @ariestotle yeap, twice  HAHAHA. Ang hot talag...  "
            ]
          },
          "execution_count": 3,
          "metadata": {},
          "output_type": "execute_result"
        }
      ],
      "source": [
        "train_df.sample(5)\n"
      ]
    },
    {
      "cell_type": "markdown",
      "metadata": {},
      "source": [
        "\n",
        "<p style=\"font-family: 'Times New Roman'; color: pink; font-size: 250%; text-align: center; border-radius: 20px 60px;\">\n",
        "    DATA EXPLORATION\n",
        "</p>\n"
      ]
    },
    {
      "cell_type": "code",
      "execution_count": 4,
      "metadata": {},
      "outputs": [
        {
          "name": "stderr",
          "output_type": "stream",
          "text": [
            "C:\\Users\\ZBook\\AppData\\Local\\Temp\\ipykernel_12844\\1341521811.py:9: FutureWarning: \n",
            "\n",
            "Passing `palette` without assigning `hue` is deprecated and will be removed in v0.14.0. Assign the `x` variable to `hue` and set `legend=False` for the same effect.\n",
            "\n",
            "  fg = sns.countplot(x=train_df[\"target\"], palette=cols)\n",
            "C:\\Users\\ZBook\\AppData\\Local\\Temp\\ipykernel_12844\\1341521811.py:9: UserWarning: The palette list has more values (3) than needed (2), which may not be intended.\n",
            "  fg = sns.countplot(x=train_df[\"target\"], palette=cols)\n"
          ]
        },
        {
          "data": {
            "image/png": "[encoded data removed]",
            "text/plain": [
              "<Figure size 1200x600 with 1 Axes>"
            ]
          },
          "metadata": {},
          "output_type": "display_data"
        },
        {
          "name": "stderr",
          "output_type": "stream",
          "text": [
            "C:\\Users\\ZBook\\AppData\\Local\\Temp\\ipykernel_12844\\1341521811.py:17: FutureWarning: \n",
            "\n",
            "Passing `palette` without assigning `hue` is deprecated and will be removed in v0.14.0. Assign the `x` variable to `hue` and set `legend=False` for the same effect.\n",
            "\n",
            "  fg = sns.countplot(x=test_df[\"target\"], palette=cols)\n"
          ]
        },
        {
          "data": {
            "image/png": "[encoded data removed]",
            "text/plain": [
              "<Figure size 1200x600 with 1 Axes>"
            ]
          },
          "metadata": {},
          "output_type": "display_data"
        }
      ],
      "source": [
        "import matplotlib.pyplot as plt\n",
        "import seaborn as sns\n",
        "\n",
        "# Palette colors\n",
        "cols = [\"#E1F16B\", \"#E598D8\", \"#8ECAE6\"]  \n",
        "\n",
        "# Countplot for training data\n",
        "plt.figure(figsize=(12, 6))\n",
        "fg = sns.countplot(x=train_df[\"target\"], palette=cols)\n",
        "fg.set_title(\"Class Distribution in Training Set\", color=\"#58508d\", fontsize=16)\n",
        "fg.set_xlabel(\"Classes\", color=\"#58508d\", fontsize=14)\n",
        "fg.set_ylabel(\"Number of Data Points\", color=\"#58508d\", fontsize=14)\n",
        "plt.show()\n",
        "\n",
        "# Countplot for test data\n",
        "plt.figure(figsize=(12, 6))\n",
        "fg = sns.countplot(x=test_df[\"target\"], palette=cols)\n",
        "fg.set_title(\"Class Distribution in Test Set\", color=\"#58508d\", fontsize=16)\n",
        "fg.set_xlabel(\"Classes\", color=\"#58508d\", fontsize=14)\n",
        "fg.set_ylabel(\"Number of Data Points\", color=\"#58508d\", fontsize=14)\n",
        "plt.show()\n"
      ]
    },
    {
      "cell_type": "markdown",
      "metadata": {},
      "source": [
        "<p style=\"font-family: 'Times New Roman'; color: pink; font-size: 250%; text-align: center; border-radius: 20px 60px;\">\n",
        "    Tweet Length Histogram\n",
        "</p>\n"
      ]
    },
    {
      "cell_type": "code",
      "execution_count": 5,
      "metadata": {},
      "outputs": [
        {
          "data": {
            "image/png": "[encoded data removed]",
            "text/plain": [
              "<Figure size 1200x600 with 1 Axes>"
            ]
          },
          "metadata": {},
          "output_type": "display_data"
        }
      ],
      "source": [
        "# Histogram of tweet lengths\n",
        "df[\"text_length\"] = df[\"text\"].apply(len)\n",
        "\n",
        "plt.figure(figsize=(12,6))\n",
        "sns.histplot(df[\"text_length\"], bins=50, kde=True, color=\"#E598D8\")\n",
        "plt.title(\"Tweet Length Distribution\", color=\"#58508d\")\n",
        "plt.xlabel(\"Tweet length (characters)\", color=\"#58508d\")\n",
        "plt.ylabel(\"Count\", color=\"#58508d\")\n",
        "plt.show()\n"
      ]
    },
    {
      "cell_type": "markdown",
      "metadata": {},
      "source": [
        "<p style=\"font-family: 'Times New Roman'; color: pink; font-size: 250%; text-align: center; border-radius: 20px 60px;\">\n",
        "    Top Frequent Tokens\n",
        "</p>\n"
      ]
    },
    {
      "cell_type": "code",
      "execution_count": 6,
      "metadata": {},
      "outputs": [
        {
          "name": "stderr",
          "output_type": "stream",
          "text": [
            "C:\\Users\\ZBook\\AppData\\Local\\Temp\\ipykernel_12844\\3502809821.py:18: FutureWarning: \n",
            "\n",
            "Passing `palette` without assigning `hue` is deprecated and will be removed in v0.14.0. Assign the `y` variable to `hue` and set `legend=False` for the same effect.\n",
            "\n",
            "  sns.barplot(x=\"count\", y=\"word\", data=freq_df, palette=\"viridis\")\n"
          ]
        },
        {
          "data": {
            "image/png": "[encoded data removed]",
            "text/plain": [
              "<Figure size 1200x600 with 1 Axes>"
            ]
          },
          "metadata": {},
          "output_type": "display_data"
        }
      ],
      "source": [
        "# Get most common words\n",
        "from collections import Counter\n",
        "import re\n",
        "\n",
        "# Tokenize tweets into words\n",
        "all_words = []\n",
        "for text in df[\"text\"]:\n",
        "    tokens = re.findall(r\"\\b\\w+\\b\", text.lower())\n",
        "    all_words.extend(tokens)\n",
        "\n",
        "# Count frequency of top words\n",
        "word_freq = Counter(all_words).most_common(20)\n",
        "\n",
        "# Convert to dataframe for plotting\n",
        "freq_df = pd.DataFrame(word_freq, columns=[\"word\", \"count\"])\n",
        "\n",
        "plt.figure(figsize=(12,6))\n",
        "sns.barplot(x=\"count\", y=\"word\", data=freq_df, palette=\"viridis\")\n",
        "plt.title(\"Top 20 Frequent Tokens\", color=\"#58508d\")\n",
        "plt.xlabel(\"Count\", color=\"#58508d\")\n",
        "plt.ylabel(\"Word\", color=\"#58508d\")\n",
        "plt.show()\n"
      ]
    },
    {
      "cell_type": "code",
      "execution_count": 8,
      "metadata": {},
      "outputs": [
        {
          "name": "stdout",
          "output_type": "stream",
          "text": [
            "         target                                               text\n",
            "10650  negative  cpr fail day, i turned it off instead of shock...\n",
            "2041   negative  Laying in the bed because I just found out I'v...\n",
            "8668   negative  GRUMPY FUCK. i hate when people take there wee...\n",
            "1114   negative  @lolstephy pls just shutup about splendour n d...\n",
            "13902  negative  @chrisoldroyd Only UK? What about N. America  ...\n"
          ]
        }
      ],
      "source": [
        "# Display 5 random tweets\n",
        "print(df[[\"target\", \"text\"]].sample(5, random_state=42))\n"
      ]
    },
    {
      "cell_type": "markdown",
      "metadata": {},
      "source": [
        "\n",
        "<p style=\"font-family: 'Times New Roman'; color: pink; font-size: 250%; text-align: center; border-radius: 20px 60px;\">\n",
        "    Regex Cleaning\n",
        "</p>\n"
      ]
    },
    {
      "cell_type": "code",
      "execution_count": 9,
      "metadata": {},
      "outputs": [],
      "source": [
        "import re\n",
        "\n",
        "# Function to clean tweets\n",
        "def clean_tweet(text):\n",
        "    # Remove Urls\n",
        "    text = re.sub(r\"http\\S+|www\\S+|https\\S+\", \"\", text, flags=re.MULTILINE)\n",
        "    # Remove mentions \n",
        "    text = re.sub(r\"@\\w+\", \"\", text)\n",
        "    # Remove hashtags\n",
        "    text = re.sub(r\"#\\w+\", \"\", text)\n",
        "    # Remove emojis or non-alphabetic characters\n",
        "    text = re.sub(r\"[^a-zA-Z\\s]\", \" \", text)\n",
        "    text = text.lower()\n",
        "    # Remove spaces\n",
        "    text = re.sub(r\"\\s+\", \" \", text).strip()\n",
        "    return text\n"
      ]
    },
    {
      "cell_type": "code",
      "execution_count": 10,
      "metadata": {},
      "outputs": [],
      "source": [
        "# Apply cleaning on train and test datasets\n",
        "train_df[\"clean_text\"] = train_df[\"text\"].apply(clean_tweet)\n",
        "test_df[\"clean_text\"] = test_df[\"text\"].apply(clean_tweet)\n"
      ]
    },
    {
      "cell_type": "code",
      "execution_count": 11,
      "metadata": {},
      "outputs": [
        {
          "name": "stdout",
          "output_type": "stream",
          "text": [
            "Original: @switchfoot http://twitpic.com/2y1zl - Awww, that's a bummer.  You shoulda got David Carr of Third Day to do it. ;D\n",
            "Cleaned : a that s a bummer you shoulda got david carr of third day to do it d\n",
            "---\n",
            "Original: is upset that he can't update his Facebook by texting it... and might cry as a result  School today also. Blah!\n",
            "Cleaned : is upset that he can t update his facebook by texting it and might cry as a result school today also blah\n",
            "---\n",
            "Original: @Kenichan I dived many times for the ball. Managed to save 50%  The rest go out of bounds\n",
            "Cleaned : i dived many times for the ball managed to save the rest go out of bounds\n",
            "---\n"
          ]
        }
      ],
      "source": [
        "# Show before and after cleaning (3 examples)\n",
        "for i in range(3):\n",
        "    print(\"Original:\", train_df.loc[i, \"text\"])\n",
        "    print(\"Cleaned :\", train_df.loc[i, \"clean_text\"])\n",
        "    print(\"---\")\n"
      ]
    },
    {
      "cell_type": "markdown",
      "metadata": {},
      "source": [
        "\n",
        "<p style=\"font-family: 'Times New Roman'; color: pink; font-size: 250%; text-align: center; border-radius: 20px 60px;\">\n",
        "    Tokenize clean tweets\n",
        "</p>\n"
      ]
    },
    {
      "cell_type": "code",
      "execution_count": 12,
      "metadata": {},
      "outputs": [
        {
          "name": "stderr",
          "output_type": "stream",
          "text": [
            "[nltk_data] Downloading package punkt to\n",
            "[nltk_data]     C:\\Users\\ZBook\\AppData\\Roaming\\nltk_data...\n",
            "[nltk_data]   Package punkt is already up-to-date!\n"
          ]
        }
      ],
      "source": [
        "import nltk\n",
        "nltk.download(\"punkt\")\n",
        "\n",
        "\n",
        "# Tokenize clean tweets\n",
        "train_df[\"tokens\"] = train_df[\"clean_text\"].apply(nltk.word_tokenize)\n",
        "test_df[\"tokens\"] = test_df[\"clean_text\"].apply(nltk.word_tokenize)\n"
      ]
    },
    {
      "cell_type": "code",
      "execution_count": 13,
      "metadata": {},
      "outputs": [
        {
          "name": "stdout",
          "output_type": "stream",
          "text": [
            "Vocab size before cleaning: 1350598\n",
            "Vocab size after cleaning: 259068\n"
          ]
        }
      ],
      "source": [
        "# size before clean\n",
        "vocab_before = set(\" \".join(train_df[\"text\"]).split())\n",
        "\n",
        "print(\"Vocab size before cleaning:\", len(vocab_before))\n",
        "\n",
        "\n",
        "# size after clean\n",
        "vocab_after = set(\" \".join(train_df[\"clean_text\"]).split())\n",
        "\n",
        "print(\"Vocab size after cleaning:\", len(vocab_after))\n"
      ]
    },
    {
      "cell_type": "markdown",
      "metadata": {},
      "source": [
        "\n",
        "<p style=\"font-family: 'Times New Roman'; color: pink; font-size: 250%; text-align: center; border-radius: 20px 60px;\">\n",
        "    REMOVING STOPWORDS\n",
        "\n",
        "</p>\n"
      ]
    },
    {
      "cell_type": "code",
      "execution_count": 14,
      "metadata": {},
      "outputs": [
        {
          "name": "stderr",
          "output_type": "stream",
          "text": [
            "[nltk_data] Downloading package stopwords to\n",
            "[nltk_data]     C:\\Users\\ZBook\\AppData\\Roaming\\nltk_data...\n",
            "[nltk_data]   Package stopwords is already up-to-date!\n"
          ]
        }
      ],
      "source": [
        "from nltk.corpus import stopwords\n",
        "import string\n",
        "\n",
        "nltk.download(\"stopwords\")\n",
        "\n",
        "# function to clean tokens\n",
        "def clean_tokens(tokens):\n",
        "    stop_words = set(stopwords.words(\"english\"))\n",
        "    cleaned = []\n",
        "    for word in tokens:\n",
        "        # Remove stopwords\n",
        "        if word in stop_words:\n",
        "            continue\n",
        "        # Remove punctuation\n",
        "        if word in string.punctuation:\n",
        "            continue\n",
        "        # replace Numbers with <NUM>\n",
        "        if word.isdigit():\n",
        "            cleaned.append(\"<NUM>\")\n",
        "            continue\n",
        "        cleaned.append(word)\n",
        "    return cleaned\n",
        "\n",
        "\n"
      ]
    },
    {
      "cell_type": "code",
      "execution_count": 15,
      "metadata": {},
      "outputs": [
        {
          "name": "stdout",
          "output_type": "stream",
          "text": [
            "                                              tokens  \\\n",
            "0  [a, that, s, a, bummer, you, shoulda, got, dav...   \n",
            "1  [is, upset, that, he, can, t, update, his, fac...   \n",
            "2  [i, dived, many, times, for, the, ball, manage...   \n",
            "\n",
            "                                        clean_tokens  \n",
            "0    [bummer, shoulda, got, david, carr, third, day]  \n",
            "1  [upset, update, facebook, texting, might, cry,...  \n",
            "2  [dived, many, times, ball, managed, save, rest...  \n"
          ]
        }
      ],
      "source": [
        "# Apply to train and test\n",
        "train_df[\"clean_tokens\"] = train_df[\"tokens\"].apply(clean_tokens)\n",
        "test_df[\"clean_tokens\"] = test_df[\"tokens\"].apply(clean_tokens)\n",
        "\n",
        "print(train_df[[\"tokens\", \"clean_tokens\"]].head(3))"
      ]
    },
    {
      "cell_type": "markdown",
      "metadata": {},
      "source": [
        "\n",
        "\n",
        "<p style=\"font-family: 'Times New Roman'; color: pink; font-size: 250%; text-align: center; border-radius: 20px 60px;\">\n",
        "    (STAMMING)  VS  (LEMMATIZATION)\n",
        "\n",
        "</p>\n"
      ]
    },
    {
      "cell_type": "code",
      "execution_count": 16,
      "metadata": {},
      "outputs": [
        {
          "name": "stderr",
          "output_type": "stream",
          "text": [
            "[nltk_data] Downloading package wordnet to\n",
            "[nltk_data]     C:\\Users\\ZBook\\AppData\\Roaming\\nltk_data...\n",
            "[nltk_data]   Package wordnet is already up-to-date!\n"
          ]
        }
      ],
      "source": [
        "from nltk.stem import PorterStemmer, WordNetLemmatizer\n",
        "\n",
        "nltk.download(\"wordnet\")\n",
        "stemmer = PorterStemmer()\n",
        "lemmatizer = WordNetLemmatizer()\n",
        "\n",
        "# Apply stamming\n",
        "train_df[\"stemmed\"] = train_df[\"clean_tokens\"].apply(lambda x: [stemmer.stem(word) for word in x])\n",
        "\n",
        "# Apply lemmatization\n",
        "train_df[\"lemmatized\"] = train_df[\"clean_tokens\"].apply(lambda x: [lemmatizer.lemmatize(word, pos='v') for word in x])\n",
        "\n",
        "\n"
      ]
    },
    {
      "cell_type": "code",
      "execution_count": 17,
      "metadata": {},
      "outputs": [
        {
          "name": "stdout",
          "output_type": "stream",
          "text": [
            "        word   stemmed lemmatized\n",
            "0     bummer    bummer     bummer\n",
            "1    shoulda   shoulda    shoulda\n",
            "2        got       got        get\n",
            "3      david     david      david\n",
            "4       carr      carr       carr\n",
            "5      third     third      third\n",
            "6        day       day        day\n",
            "7      upset     upset      upset\n",
            "8     update     updat     update\n",
            "9   facebook  facebook   facebook\n",
            "10   texting      text    texting\n",
            "11     might     might      might\n",
            "12       cry       cri        cry\n",
            "13    result    result     result\n",
            "14    school    school     school\n",
            "15     today     today      today\n",
            "16      also      also       also\n",
            "17      blah      blah       blah\n",
            "18     dived      dive       dive\n",
            "19      many      mani       many\n"
          ]
        }
      ],
      "source": [
        "# Show comparison for first 20 words\n",
        "sample_words = train_df[\"clean_tokens\"].explode().unique()[:20]\n",
        "comparison = pd.DataFrame({\n",
        "    \"word\": sample_words,\n",
        "    \"stemmed\": [stemmer.stem(w) for w in sample_words],\n",
        "    \"lemmatized\": [lemmatizer.lemmatize(w, pos=\"v\") for w in sample_words]\n",
        "})\n",
        "\n",
        "print(comparison)"
      ]
    },
    {
      "cell_type": "markdown",
      "metadata": {},
      "source": [
        "\n",
        "\n",
        "<p style=\"font-family: 'Times New Roman'; color: pink; font-size: 250%; text-align: center; border-radius: 20px 60px;\">\n",
        "    POS Tagging (extra features)\n",
        "\n",
        "</p>\n"
      ]
    },
    {
      "cell_type": "code",
      "execution_count": null,
      "metadata": {},
      "outputs": [],
      "source": [
        "import spacy\n",
        "nlp = spacy.load(\"en_core_web_sm\")\n",
        "\n",
        "# function to extract POS\n",
        "def get_pos_counts(text):\n",
        "    doc = nlp(\" \".join(text))  \n",
        "    nouns = sum(1 for token in doc if token.pos_ == \"NOUN\")\n",
        "    verbs = sum(1 for token in doc if token.pos_ == \"VERB\")\n",
        "    adjs  = sum(1 for token in doc if token.pos_ == \"ADJ\")\n",
        "    return pd.Series([nouns, verbs, adjs])\n"
      ]
    },
    {
      "cell_type": "code",
      "execution_count": null,
      "metadata": {},
      "outputs": [],
      "source": [
        "\n",
        "# Apply to train and test\n",
        "train_df[[\"noun_count\", \"verb_count\", \"adj_count\"]] = train_df[\"clean_tokens\"].apply(get_pos_counts)\n",
        "test_df[[\"noun_count\", \"verb_count\", \"adj_count\"]] = test_df[\"clean_tokens\"].apply(get_pos_counts)\n",
        "\n",
        "print(train_df.head(3))\n"
      ]
    },
    {
      "cell_type": "code",
      "execution_count": 18,
      "metadata": {},
      "outputs": [
        {
          "name": "stdout",
          "output_type": "stream",
          "text": [
            "     target          id                          date      flag  \\\n",
            "0  negative  1467810369  Mon Apr 06 22:19:45 PDT 2009  NO_QUERY   \n",
            "1  negative  1467810672  Mon Apr 06 22:19:49 PDT 2009  NO_QUERY   \n",
            "2  negative  1467810917  Mon Apr 06 22:19:53 PDT 2009  NO_QUERY   \n",
            "\n",
            "              user                                               text  \\\n",
            "0  _TheSpecialOne_  @switchfoot http://twitpic.com/2y1zl - Awww, t...   \n",
            "1    scotthamilton  is upset that he can't update his Facebook by ...   \n",
            "2         mattycus  @Kenichan I dived many times for the ball. Man...   \n",
            "\n",
            "                                          clean_text  \\\n",
            "0  a that s a bummer you shoulda got david carr o...   \n",
            "1  is upset that he can t update his facebook by ...   \n",
            "2  i dived many times for the ball managed to sav...   \n",
            "\n",
            "                                              tokens  \\\n",
            "0  [a, that, s, a, bummer, you, shoulda, got, dav...   \n",
            "1  [is, upset, that, he, can, t, update, his, fac...   \n",
            "2  [i, dived, many, times, for, the, ball, manage...   \n",
            "\n",
            "                                        clean_tokens  \\\n",
            "0    [bummer, shoulda, got, david, carr, third, day]   \n",
            "1  [upset, update, facebook, texting, might, cry,...   \n",
            "2  [dived, many, times, ball, managed, save, rest...   \n",
            "\n",
            "                                             stemmed  \\\n",
            "0    [bummer, shoulda, got, david, carr, third, day]   \n",
            "1  [upset, updat, facebook, text, might, cri, res...   \n",
            "2  [dive, mani, time, ball, manag, save, rest, go...   \n",
            "\n",
            "                                          lemmatized  noun_count  verb_count  \\\n",
            "0    [bummer, shoulda, get, david, carr, third, day]           1           1   \n",
            "1  [upset, update, facebook, texting, might, cry,...           5           3   \n",
            "2  [dive, many, time, ball, manage, save, rest, g...           5           3   \n",
            "\n",
            "   adj_count  \n",
            "0          1  \n",
            "1          0  \n",
            "2          1  \n"
          ]
        }
      ],
      "source": [
        "import spacy\n",
        "nlp = spacy.load(\"en_core_web_sm\")\n",
        "\n",
        "def add_pos_counts(df):\n",
        "    # convert tokens to text\n",
        "    texts = [\" \".join(tokens) for tokens in df[\"clean_tokens\"]]\n",
        "    \n",
        "    nouns, verbs, adjs = [], [], []\n",
        "    \n",
        "    # use nlp.pipe for faster batch processing\n",
        "    for doc in nlp.pipe(texts, batch_size=1000, n_process=-1):\n",
        "        nouns.append(sum(1 for token in doc if token.pos_ == \"NOUN\"))\n",
        "        verbs.append(sum(1 for token in doc if token.pos_ == \"VERB\"))\n",
        "        adjs.append(sum(1 for token in doc if token.pos_ == \"ADJ\"))\n",
        "    \n",
        "    # add results as new columns\n",
        "    df[\"noun_count\"] = nouns\n",
        "    df[\"verb_count\"] = verbs\n",
        "    df[\"adj_count\"] = adjs\n",
        "    return df\n",
        "\n",
        "# Apply to train and test\n",
        "train_df = add_pos_counts(train_df)\n",
        "test_df = add_pos_counts(test_df)\n",
        "\n",
        "print(train_df.head(3))\n"
      ]
    },
    {
      "cell_type": "markdown",
      "metadata": {},
      "source": [
        "\n",
        "<p style=\"font-family: 'Times New Roman'; color: pink; font-size: 250%; text-align: center; border-radius: 20px 60px;\">\n",
        "    Text Representation\n",
        "\n",
        "</p>\n"
      ]
    },
    {
      "cell_type": "code",
      "execution_count": null,
      "metadata": {},
      "outputs": [
        {
          "name": "stdout",
          "output_type": "stream",
          "text": [
            "Index(['target', 'id', 'date', 'flag', 'user', 'text', 'clean_text', 'tokens',\n",
            "       'clean_tokens', 'stemmed', 'lemmatized', 'noun_count', 'verb_count',\n",
            "       'adj_count', 'Clean_Text'],\n",
            "      dtype='object')\n",
            "Index(['target', 'id', 'date', 'flag', 'user', 'text', 'clean_text', 'tokens',\n",
            "       'clean_tokens', 'noun_count', 'verb_count', 'adj_count'],\n",
            "      dtype='object')\n"
          ]
        }
      ],
      "source": [
        "# check available columns\n",
        "print(train_df.columns)\n",
        "print(test_df.columns)\n",
        "\n",
        "# use clean_tokens for train and test\n",
        "train_df[\"Clean_Text\"] = train_df[\"clean_tokens\"].apply(lambda x: \" \".join(x))\n",
        "test_df[\"Clean_Text\"] = test_df[\"clean_tokens\"].apply(lambda x: \" \".join(x))\n"
      ]
    },
    {
      "cell_type": "code",
      "execution_count": 25,
      "metadata": {},
      "outputs": [
        {
          "name": "stdout",
          "output_type": "stream",
          "text": [
            "BoW -> vocab size: 5000\n",
            "BoW -> dimension: (1600000, 5000)\n"
          ]
        }
      ],
      "source": [
        "from sklearn.feature_extraction.text import CountVectorizer\n",
        "\n",
        "# Bag_of-Words\n",
        "bow_vectorizer = CountVectorizer(max_features=5000)\n",
        "bow_features = bow_vectorizer.fit_transform(train_df[\"Clean_Text\"])\n",
        "\n",
        "print(\"BoW -> vocab size:\", len(bow_vectorizer.vocabulary_))\n",
        "print(\"BoW -> dimension:\", bow_features.shape)\n"
      ]
    },
    {
      "cell_type": "code",
      "execution_count": 26,
      "metadata": {},
      "outputs": [
        {
          "name": "stdout",
          "output_type": "stream",
          "text": [
            "TF-IDF -> vocab size: 5000\n",
            "TF-IDF -> dimension: (1600000, 5000)\n"
          ]
        }
      ],
      "source": [
        "from sklearn.feature_extraction.text import TfidfVectorizer\n",
        "\n",
        "# TF/IDF\n",
        "tfidf_vectorizer = TfidfVectorizer(max_features=5000)\n",
        "tfidf_features = tfidf_vectorizer.fit_transform(train_df[\"Clean_Text\"])\n",
        "\n",
        "print(\"TF-IDF -> vocab size:\", len(tfidf_vectorizer.vocabulary_))\n",
        "print(\"TF-IDF -> dimension:\", tfidf_features.shape)\n"
      ]
    },
    {
      "cell_type": "code",
      "execution_count": 27,
      "metadata": {},
      "outputs": [
        {
          "name": "stdout",
          "output_type": "stream",
          "text": [
            "[==================================================] 100.0% 128.1/128.1MB downloaded\n",
            "Word2Vec -> dimension: (1600000, 100)\n"
          ]
        }
      ],
      "source": [
        "import gensim.downloader as api\n",
        "\n",
        "# load embedding\n",
        "w2v = api.load(\"glove-wiki-gigaword-100\")  \n",
        "\n",
        "def avg_w2v(tokens, model, k=100):\n",
        "    vecs = [model[w] for w in tokens if w in model]\n",
        "    return np.mean(vecs, axis=0) if len(vecs) > 0 else np.zeros(k)\n",
        "\n",
        "# apply to train & test\n",
        "train_w2v = np.vstack(train_df[\"clean_tokens\"].apply(lambda x: avg_w2v(x, w2v)))\n",
        "test_w2v  = np.vstack(test_df[\"clean_tokens\"].apply(lambda x: avg_w2v(x, w2v)))\n",
        "\n",
        "print(\"Word2Vec -> dimension:\", train_w2v.shape)\n"
      ]
    },
    {
      "cell_type": "code",
      "execution_count": 28,
      "metadata": {},
      "outputs": [
        {
          "name": "stdout",
          "output_type": "stream",
          "text": [
            "  Representation        Vocab Size        Dimension\n",
            "0   Bag-of-Words              5000  (1600000, 5000)\n",
            "1         TF-IDF              5000  (1600000, 5000)\n",
            "2       Word2Vec  N/A (pretrained)   (1600000, 100)\n"
          ]
        }
      ],
      "source": [
        "# Summary table\n",
        "results = pd.DataFrame({\n",
        "    \"Representation\": [\"Bag-of-Words\", \"TF-IDF\", \"Word2Vec\"],\n",
        "    \"Vocab Size\": [\n",
        "        len(bow_vectorizer.vocabulary_),\n",
        "        len(tfidf_vectorizer.vocabulary_),\n",
        "        \"N/A (pretrained)\"\n",
        "    ],\n",
        "    \"Dimension\": [\n",
        "        bow_features.shape,\n",
        "        tfidf_features.shape,\n",
        "        train_w2v.shape\n",
        "    ]\n",
        "})\n",
        "\n",
        "print(results)\n"
      ]
    },
    {
      "cell_type": "markdown",
      "metadata": {},
      "source": [
        "\n",
        "<p style=\"font-family: 'Times New Roman'; color: pink; font-size: 250%; text-align: center; border-radius: 20px 60px;\">\n",
        "    MODEL BUILDING\n",
        "\n",
        "</p>\n"
      ]
    },
    {
      "cell_type": "code",
      "execution_count": 29,
      "metadata": {},
      "outputs": [
        {
          "name": "stdout",
          "output_type": "stream",
          "text": [
            "Train subset: (20000, 15)\n",
            "Test filtered: (359, 13)\n"
          ]
        },
        {
          "name": "stderr",
          "output_type": "stream",
          "text": [
            "C:\\Users\\ZBook\\AppData\\Local\\Temp\\ipykernel_12844\\2766025197.py:7: FutureWarning: DataFrameGroupBy.apply operated on the grouping columns. This behavior is deprecated, and in a future version of pandas the grouping columns will be excluded from the operation. Either pass `include_groups=False` to exclude the groupings or explicitly select the grouping columns after groupby to silence this warning.\n",
            "  .apply(lambda g: g.sample(n=min(len(g), n_class), random_state=42))\n"
          ]
        }
      ],
      "source": [
        "# first (balanced) and filter test set (remove neutral)\n",
        "from sklearn.model_selection import train_test_split\n",
        "n_class = 10000\n",
        "\n",
        "train_subset = (\n",
        "    train_df.groupby(\"target\")\n",
        "    .apply(lambda g: g.sample(n=min(len(g), n_class), random_state=42))\n",
        "    .reset_index(drop=True)\n",
        ")\n",
        "\n",
        "#  test  withoutt 'neutral'\n",
        "test_filtered = test_df[test_df[\"target\"] != \"neutral\"].reset_index(drop=True)\n",
        "\n",
        "X_train = train_subset[\"Clean_Text\"]\n",
        "y_train = train_subset[\"target\"]\n",
        "\n",
        "X_test = test_filtered[\"Clean_Text\"]\n",
        "y_test = test_filtered[\"target\"]\n",
        "\n",
        "print(\"Train subset:\", train_subset.shape)\n",
        "print(\"Test filtered:\", test_filtered.shape)\n"
      ]
    },
    {
      "cell_type": "code",
      "execution_count": null,
      "metadata": {},
      "outputs": [],
      "source": [
        "# second: multiple pipelines for BoW and TF-IDF\n",
        "from sklearn.naive_bayes import MultinomialNB\n",
        "from sklearn.linear_model import LogisticRegression\n",
        "from sklearn.svm import LinearSVC\n",
        "from sklearn.feature_extraction.text import CountVectorizer, TfidfVectorizer\n",
        "from sklearn.metrics import accuracy_score, f1_score, precision_score, recall_score\n",
        "from sklearn.pipeline import Pipeline\n",
        "\n",
        "\n",
        "vectorizers = {\"BoW\": CountVectorizer(max_features=5000),\"TFIDF\": TfidfVectorizer(max_features=5000)}\n",
        "\n",
        "classifiers = {\"MultinomialNB\": MultinomialNB(), \"LogisticRegression\": LogisticRegression(max_iter=1000),  \"LinearSVC\": LinearSVC(max_iter=10000)}\n",
        "\n",
        "results = []\n",
        "\n",
        "for vec_name, vec in vectorizers.items():\n",
        "    for clf_name, clf in classifiers.items():\n",
        "        pipe = Pipeline([\n",
        "            (\"vect\", vec),\n",
        "            (\"clf\", clf)\n",
        "        ])\n",
        "        print(f\"Training: {vec_name} + {clf_name} ...\")\n",
        "        pipe.fit(X_train, y_train)\n",
        "        preds = pipe.predict(X_test)\n",
        "        acc = accuracy_score(y_test, preds)\n",
        "        f1 = f1_score(y_test, preds, average=\"weighted\")\n",
        "        prec = precision_score(y_test, preds, average=\"weighted\")\n",
        "        rec = recall_score(y_test, preds, average=\"weighted\")\n",
        "        results.append({\n",
        "            \"Representation\": vec_name,\n",
        "            \"Classifier\": clf_name,\n",
        "            \"Accuracy\": acc,\n",
        "            \"F1_weighted\": f1,\n",
        "            \"Precision\": prec,\n",
        "            \"Recall\": rec\n",
        "        })"
      ]
    },
    {
      "cell_type": "code",
      "execution_count": 33,
      "metadata": {},
      "outputs": [
        {
          "name": "stdout",
          "output_type": "stream",
          "text": [
            "  Representation          Classifier  Accuracy  F1_weighted  Precision  \\\n",
            "0            BoW       MultinomialNB  0.799443     0.799312   0.800972   \n",
            "1          TFIDF       MultinomialNB  0.791086     0.790918   0.792830   \n",
            "2          TFIDF  LogisticRegression  0.779944     0.779729   0.780497   \n",
            "3            BoW  LogisticRegression  0.757660     0.757615   0.757676   \n",
            "4          TFIDF           LinearSVC  0.754875     0.754886   0.754944   \n",
            "5            BoW           LinearSVC  0.735376     0.735273   0.735456   \n",
            "\n",
            "     Recall  \n",
            "0  0.799443  \n",
            "1  0.791086  \n",
            "2  0.779944  \n",
            "3  0.757660  \n",
            "4  0.754875  \n",
            "5  0.735376  \n"
          ]
        }
      ],
      "source": [
        "# convert 2 DataFrame\n",
        "import pandas as pd\n",
        "results_df = pd.DataFrame(results).sort_values(by=\"F1_weighted\", ascending=False).reset_index(drop=True)\n",
        "print(results_df)\n"
      ]
    },
    {
      "cell_type": "code",
      "execution_count": 35,
      "metadata": {},
      "outputs": [],
      "source": [
        "# thierd: Word2Vec>> load pretrained embeddings\n",
        "import gensim.downloader as api\n",
        "import numpy as np\n",
        "from sklearn.base import TransformerMixin, BaseEstimator\n",
        "\n",
        "w2v = api.load(\"glove-wiki-gigaword-100\")   \n",
        "\n",
        "class MeanEmbeddingTransformer(BaseEstimator, TransformerMixin):\n",
        "    def __init__(self, model):\n",
        "        self.model = model\n",
        "        self.dim = model.vector_size\n",
        "\n",
        "    def fit(self, X, y=None):\n",
        "        return self\n",
        "\n",
        "    def transform(self, X):\n",
        "        mats = []\n",
        "        for item in X:\n",
        "            if isinstance(item, list):\n",
        "                words = item\n",
        "            else:\n",
        "                words = str(item).split()\n",
        "            vecs = [self.model[w] for w in words if w in self.model]\n",
        "            if len(vecs) > 0:\n",
        "                mats.append(np.mean(vecs, axis=0))\n",
        "            else:\n",
        "                mats.append(np.zeros(self.dim))\n",
        "        return np.vstack(mats)\n",
        "\n"
      ]
    },
    {
      "cell_type": "code",
      "execution_count": 36,
      "metadata": {},
      "outputs": [
        {
          "name": "stdout",
          "output_type": "stream",
          "text": [
            "Training: Word2Vec + LogisticRegression ...\n",
            "Training: Word2Vec + LinearSVC ...\n"
          ]
        }
      ],
      "source": [
        "# prepare token-input for transformer\n",
        "X_train_tokens = train_subset[\"clean_tokens\"].tolist()\n",
        "X_test_tokens  = test_filtered[\"clean_tokens\"].tolist()\n",
        "\n",
        "# classifiers to try with W2V \n",
        "w2v_classifiers = {\n",
        "    \"LogisticRegression\": LogisticRegression(max_iter=1000),\n",
        "    \"LinearSVC\": LinearSVC(max_iter=10000)\n",
        "}\n",
        "\n",
        "w2v_results = []\n",
        "w2v_transformer = MeanEmbeddingTransformer(w2v)\n",
        "\n",
        "for clf_name, clf in w2v_classifiers.items():\n",
        "    pipe = Pipeline([\n",
        "        (\"w2v\", w2v_transformer),\n",
        "        (\"clf\", clf)\n",
        "    ])\n",
        "    print(f\"Training: Word2Vec + {clf_name} ...\")\n",
        "    pipe.fit(X_train_tokens, y_train)\n",
        "    preds = pipe.predict(X_test_tokens)\n",
        "    acc = accuracy_score(y_test, preds)\n",
        "    f1 = f1_score(y_test, preds, average=\"weighted\")\n",
        "    prec = precision_score(y_test, preds, average=\"weighted\")\n",
        "    rec = recall_score(y_test, preds, average=\"weighted\")\n",
        "    w2v_results.append({\n",
        "        \"Representation\": \"Word2Vec\",\n",
        "        \"Classifier\": clf_name,\n",
        "        \"Accuracy\": acc,\n",
        "        \"F1_weighted\": f1,\n",
        "        \"Precision\": prec,\n",
        "        \"Recall\": rec\n",
        "    })\n",
        "\n"
      ]
    },
    {
      "cell_type": "code",
      "execution_count": 37,
      "metadata": {},
      "outputs": [
        {
          "name": "stdout",
          "output_type": "stream",
          "text": [
            "  Representation          Classifier  Accuracy  F1_weighted  Precision  \\\n",
            "0       Word2Vec  LogisticRegression   0.75766     0.757329   0.758425   \n",
            "1       Word2Vec           LinearSVC   0.75766     0.757329   0.758425   \n",
            "\n",
            "    Recall  \n",
            "0  0.75766  \n",
            "1  0.75766  \n"
          ]
        }
      ],
      "source": [
        "# convert to DataFrame\n",
        "w2v_results_df = pd.DataFrame(w2v_results).sort_values(by=\"F1_weighted\", ascending=False).reset_index(drop=True)\n",
        "print(w2v_results_df)"
      ]
    },
    {
      "cell_type": "markdown",
      "metadata": {},
      "source": [
        "\n",
        "<p style=\"font-family: 'Times New Roman'; color: pink; font-size: 250%; text-align: center; border-radius: 20px 60px;\">\n",
        "    EVALUATING MODELS\n",
        "\n",
        "</p>\n"
      ]
    },
    {
      "cell_type": "code",
      "execution_count": 57,
      "metadata": {},
      "outputs": [
        {
          "data": {
            "text/html": [
              "<div>\n",
              "<style scoped>\n",
              "    .dataframe tbody tr th:only-of-type {\n",
              "        vertical-align: middle;\n",
              "    }\n",
              "\n",
              "    .dataframe tbody tr th {\n",
              "        vertical-align: top;\n",
              "    }\n",
              "\n",
              "    .dataframe thead th {\n",
              "        text-align: right;\n",
              "    }\n",
              "</style>\n",
              "<table border=\"1\" class=\"dataframe\">\n",
              "  <thead>\n",
              "    <tr style=\"text-align: right;\">\n",
              "      <th></th>\n",
              "      <th>Representation</th>\n",
              "      <th>Classifier</th>\n",
              "      <th>Accuracy</th>\n",
              "      <th>F1_weighted</th>\n",
              "      <th>Precision</th>\n",
              "      <th>Recall</th>\n",
              "    </tr>\n",
              "  </thead>\n",
              "  <tbody>\n",
              "    <tr>\n",
              "      <th>0</th>\n",
              "      <td>BoW</td>\n",
              "      <td>MultinomialNB</td>\n",
              "      <td>0.7994</td>\n",
              "      <td>0.7993</td>\n",
              "      <td>0.8010</td>\n",
              "      <td>0.7994</td>\n",
              "    </tr>\n",
              "    <tr>\n",
              "      <th>1</th>\n",
              "      <td>TFIDF</td>\n",
              "      <td>MultinomialNB</td>\n",
              "      <td>0.7911</td>\n",
              "      <td>0.7909</td>\n",
              "      <td>0.7928</td>\n",
              "      <td>0.7911</td>\n",
              "    </tr>\n",
              "    <tr>\n",
              "      <th>2</th>\n",
              "      <td>TFIDF</td>\n",
              "      <td>LogisticRegression</td>\n",
              "      <td>0.7799</td>\n",
              "      <td>0.7797</td>\n",
              "      <td>0.7805</td>\n",
              "      <td>0.7799</td>\n",
              "    </tr>\n",
              "    <tr>\n",
              "      <th>3</th>\n",
              "      <td>BoW</td>\n",
              "      <td>LogisticRegression</td>\n",
              "      <td>0.7577</td>\n",
              "      <td>0.7576</td>\n",
              "      <td>0.7577</td>\n",
              "      <td>0.7577</td>\n",
              "    </tr>\n",
              "    <tr>\n",
              "      <th>4</th>\n",
              "      <td>Word2Vec</td>\n",
              "      <td>LogisticRegression</td>\n",
              "      <td>0.7577</td>\n",
              "      <td>0.7573</td>\n",
              "      <td>0.7584</td>\n",
              "      <td>0.7577</td>\n",
              "    </tr>\n",
              "    <tr>\n",
              "      <th>5</th>\n",
              "      <td>Word2Vec</td>\n",
              "      <td>LinearSVC</td>\n",
              "      <td>0.7577</td>\n",
              "      <td>0.7573</td>\n",
              "      <td>0.7584</td>\n",
              "      <td>0.7577</td>\n",
              "    </tr>\n",
              "    <tr>\n",
              "      <th>6</th>\n",
              "      <td>TFIDF</td>\n",
              "      <td>LinearSVC</td>\n",
              "      <td>0.7549</td>\n",
              "      <td>0.7549</td>\n",
              "      <td>0.7549</td>\n",
              "      <td>0.7549</td>\n",
              "    </tr>\n",
              "    <tr>\n",
              "      <th>7</th>\n",
              "      <td>BoW</td>\n",
              "      <td>LinearSVC</td>\n",
              "      <td>0.7354</td>\n",
              "      <td>0.7353</td>\n",
              "      <td>0.7355</td>\n",
              "      <td>0.7354</td>\n",
              "    </tr>\n",
              "  </tbody>\n",
              "</table>\n",
              "</div>"
            ],
            "text/plain": [
              "  Representation          Classifier  Accuracy  F1_weighted  Precision  Recall\n",
              "0            BoW       MultinomialNB    0.7994       0.7993     0.8010  0.7994\n",
              "1          TFIDF       MultinomialNB    0.7911       0.7909     0.7928  0.7911\n",
              "2          TFIDF  LogisticRegression    0.7799       0.7797     0.7805  0.7799\n",
              "3            BoW  LogisticRegression    0.7577       0.7576     0.7577  0.7577\n",
              "4       Word2Vec  LogisticRegression    0.7577       0.7573     0.7584  0.7577\n",
              "5       Word2Vec           LinearSVC    0.7577       0.7573     0.7584  0.7577\n",
              "6          TFIDF           LinearSVC    0.7549       0.7549     0.7549  0.7549\n",
              "7            BoW           LinearSVC    0.7354       0.7353     0.7355  0.7354"
            ]
          },
          "metadata": {},
          "output_type": "display_data"
        }
      ],
      "source": [
        "# four: comparison table\n",
        "all_results = pd.concat([results_df, w2v_results_df], ignore_index=True)\n",
        "\n",
        "all_results[[\"Accuracy\",\"F1_weighted\",\"Precision\",\"Recall\"]] = all_results[[\"Accuracy\",\"F1_weighted\",\"Precision\",\"Recall\"]].round(4)\n",
        "display(all_results.sort_values(by=\"F1_weighted\", ascending=False).reset_index(drop=True))\n"
      ]
    },
    {
      "cell_type": "markdown",
      "metadata": {},
      "source": [
        "****Note>>****  **MultinomialNB only works with count-based features (BoW/TF–IDF), not with dense embeddings like Word2Vec. For Word2Vec we used Logistic Regression and Linear SVM instead.**\n"
      ]
    },
    {
      "cell_type": "code",
      "execution_count": 55,
      "metadata": {},
      "outputs": [
        {
          "data": {
            "text/html": [
              "<style type=\"text/css\">\n",
              "#T_b2cf5_row0_col2, #T_b2cf5_row0_col3, #T_b2cf5_row0_col4, #T_b2cf5_row0_col5, #T_b2cf5_row1_col2, #T_b2cf5_row1_col3, #T_b2cf5_row1_col4, #T_b2cf5_row1_col5, #T_b2cf5_row2_col2, #T_b2cf5_row2_col3, #T_b2cf5_row2_col4, #T_b2cf5_row2_col5 {\n",
              "  background-color: #604086;\n",
              "  color: #f1f1f1;\n",
              "}\n",
              "#T_b2cf5_row3_col2, #T_b2cf5_row3_col3, #T_b2cf5_row3_col4, #T_b2cf5_row3_col5, #T_b2cf5_row6_col2, #T_b2cf5_row6_col3, #T_b2cf5_row6_col4, #T_b2cf5_row6_col5, #T_b2cf5_row7_col2, #T_b2cf5_row7_col3, #T_b2cf5_row7_col4, #T_b2cf5_row7_col5 {\n",
              "  background-color: #2b3f50;\n",
              "  color: #f1f1f1;\n",
              "}\n",
              "#T_b2cf5_row4_col2, #T_b2cf5_row4_col3, #T_b2cf5_row4_col4, #T_b2cf5_row4_col5, #T_b2cf5_row5_col2, #T_b2cf5_row5_col3, #T_b2cf5_row5_col4, #T_b2cf5_row5_col5 {\n",
              "  background-color: #5c9095;\n",
              "  color: #f1f1f1;\n",
              "}\n",
              "</style>\n",
              "<table id=\"T_b2cf5\">\n",
              "  <thead>\n",
              "    <tr>\n",
              "      <th class=\"blank level0\" >&nbsp;</th>\n",
              "      <th id=\"T_b2cf5_level0_col0\" class=\"col_heading level0 col0\" >Representation</th>\n",
              "      <th id=\"T_b2cf5_level0_col1\" class=\"col_heading level0 col1\" >Classifier</th>\n",
              "      <th id=\"T_b2cf5_level0_col2\" class=\"col_heading level0 col2\" >Accuracy</th>\n",
              "      <th id=\"T_b2cf5_level0_col3\" class=\"col_heading level0 col3\" >F1_weighted</th>\n",
              "      <th id=\"T_b2cf5_level0_col4\" class=\"col_heading level0 col4\" >Precision</th>\n",
              "      <th id=\"T_b2cf5_level0_col5\" class=\"col_heading level0 col5\" >Recall</th>\n",
              "    </tr>\n",
              "  </thead>\n",
              "  <tbody>\n",
              "    <tr>\n",
              "      <th id=\"T_b2cf5_level0_row0\" class=\"row_heading level0 row0\" >0</th>\n",
              "      <td id=\"T_b2cf5_row0_col0\" class=\"data row0 col0\" >BoW</td>\n",
              "      <td id=\"T_b2cf5_row0_col1\" class=\"data row0 col1\" >MultinomialNB</td>\n",
              "      <td id=\"T_b2cf5_row0_col2\" class=\"data row0 col2\" >0.799400</td>\n",
              "      <td id=\"T_b2cf5_row0_col3\" class=\"data row0 col3\" >0.799300</td>\n",
              "      <td id=\"T_b2cf5_row0_col4\" class=\"data row0 col4\" >0.801000</td>\n",
              "      <td id=\"T_b2cf5_row0_col5\" class=\"data row0 col5\" >0.799400</td>\n",
              "    </tr>\n",
              "    <tr>\n",
              "      <th id=\"T_b2cf5_level0_row1\" class=\"row_heading level0 row1\" >1</th>\n",
              "      <td id=\"T_b2cf5_row1_col0\" class=\"data row1 col0\" >TFIDF</td>\n",
              "      <td id=\"T_b2cf5_row1_col1\" class=\"data row1 col1\" >MultinomialNB</td>\n",
              "      <td id=\"T_b2cf5_row1_col2\" class=\"data row1 col2\" >0.791100</td>\n",
              "      <td id=\"T_b2cf5_row1_col3\" class=\"data row1 col3\" >0.790900</td>\n",
              "      <td id=\"T_b2cf5_row1_col4\" class=\"data row1 col4\" >0.792800</td>\n",
              "      <td id=\"T_b2cf5_row1_col5\" class=\"data row1 col5\" >0.791100</td>\n",
              "    </tr>\n",
              "    <tr>\n",
              "      <th id=\"T_b2cf5_level0_row2\" class=\"row_heading level0 row2\" >2</th>\n",
              "      <td id=\"T_b2cf5_row2_col0\" class=\"data row2 col0\" >TFIDF</td>\n",
              "      <td id=\"T_b2cf5_row2_col1\" class=\"data row2 col1\" >LogisticRegression</td>\n",
              "      <td id=\"T_b2cf5_row2_col2\" class=\"data row2 col2\" >0.779900</td>\n",
              "      <td id=\"T_b2cf5_row2_col3\" class=\"data row2 col3\" >0.779700</td>\n",
              "      <td id=\"T_b2cf5_row2_col4\" class=\"data row2 col4\" >0.780500</td>\n",
              "      <td id=\"T_b2cf5_row2_col5\" class=\"data row2 col5\" >0.779900</td>\n",
              "    </tr>\n",
              "    <tr>\n",
              "      <th id=\"T_b2cf5_level0_row3\" class=\"row_heading level0 row3\" >3</th>\n",
              "      <td id=\"T_b2cf5_row3_col0\" class=\"data row3 col0\" >BoW</td>\n",
              "      <td id=\"T_b2cf5_row3_col1\" class=\"data row3 col1\" >LogisticRegression</td>\n",
              "      <td id=\"T_b2cf5_row3_col2\" class=\"data row3 col2\" >0.757700</td>\n",
              "      <td id=\"T_b2cf5_row3_col3\" class=\"data row3 col3\" >0.757600</td>\n",
              "      <td id=\"T_b2cf5_row3_col4\" class=\"data row3 col4\" >0.757700</td>\n",
              "      <td id=\"T_b2cf5_row3_col5\" class=\"data row3 col5\" >0.757700</td>\n",
              "    </tr>\n",
              "    <tr>\n",
              "      <th id=\"T_b2cf5_level0_row4\" class=\"row_heading level0 row4\" >4</th>\n",
              "      <td id=\"T_b2cf5_row4_col0\" class=\"data row4 col0\" >TFIDF</td>\n",
              "      <td id=\"T_b2cf5_row4_col1\" class=\"data row4 col1\" >LinearSVC</td>\n",
              "      <td id=\"T_b2cf5_row4_col2\" class=\"data row4 col2\" >0.754900</td>\n",
              "      <td id=\"T_b2cf5_row4_col3\" class=\"data row4 col3\" >0.754900</td>\n",
              "      <td id=\"T_b2cf5_row4_col4\" class=\"data row4 col4\" >0.754900</td>\n",
              "      <td id=\"T_b2cf5_row4_col5\" class=\"data row4 col5\" >0.754900</td>\n",
              "    </tr>\n",
              "    <tr>\n",
              "      <th id=\"T_b2cf5_level0_row5\" class=\"row_heading level0 row5\" >5</th>\n",
              "      <td id=\"T_b2cf5_row5_col0\" class=\"data row5 col0\" >BoW</td>\n",
              "      <td id=\"T_b2cf5_row5_col1\" class=\"data row5 col1\" >LinearSVC</td>\n",
              "      <td id=\"T_b2cf5_row5_col2\" class=\"data row5 col2\" >0.735400</td>\n",
              "      <td id=\"T_b2cf5_row5_col3\" class=\"data row5 col3\" >0.735300</td>\n",
              "      <td id=\"T_b2cf5_row5_col4\" class=\"data row5 col4\" >0.735500</td>\n",
              "      <td id=\"T_b2cf5_row5_col5\" class=\"data row5 col5\" >0.735400</td>\n",
              "    </tr>\n",
              "    <tr>\n",
              "      <th id=\"T_b2cf5_level0_row6\" class=\"row_heading level0 row6\" >6</th>\n",
              "      <td id=\"T_b2cf5_row6_col0\" class=\"data row6 col0\" >Word2Vec</td>\n",
              "      <td id=\"T_b2cf5_row6_col1\" class=\"data row6 col1\" >LogisticRegression</td>\n",
              "      <td id=\"T_b2cf5_row6_col2\" class=\"data row6 col2\" >0.757700</td>\n",
              "      <td id=\"T_b2cf5_row6_col3\" class=\"data row6 col3\" >0.757300</td>\n",
              "      <td id=\"T_b2cf5_row6_col4\" class=\"data row6 col4\" >0.758400</td>\n",
              "      <td id=\"T_b2cf5_row6_col5\" class=\"data row6 col5\" >0.757700</td>\n",
              "    </tr>\n",
              "    <tr>\n",
              "      <th id=\"T_b2cf5_level0_row7\" class=\"row_heading level0 row7\" >7</th>\n",
              "      <td id=\"T_b2cf5_row7_col0\" class=\"data row7 col0\" >Word2Vec</td>\n",
              "      <td id=\"T_b2cf5_row7_col1\" class=\"data row7 col1\" >LinearSVC</td>\n",
              "      <td id=\"T_b2cf5_row7_col2\" class=\"data row7 col2\" >0.757700</td>\n",
              "      <td id=\"T_b2cf5_row7_col3\" class=\"data row7 col3\" >0.757300</td>\n",
              "      <td id=\"T_b2cf5_row7_col4\" class=\"data row7 col4\" >0.758400</td>\n",
              "      <td id=\"T_b2cf5_row7_col5\" class=\"data row7 col5\" >0.757700</td>\n",
              "    </tr>\n",
              "  </tbody>\n",
              "</table>\n"
            ],
            "text/plain": [
              "<pandas.io.formats.style.Styler at 0x250409bf4d0>"
            ]
          },
          "execution_count": 55,
          "metadata": {},
          "output_type": "execute_result"
        }
      ],
      "source": [
        "from matplotlib.colors import ListedColormap\n",
        "\n",
        "cmap = ListedColormap([\"#5C9095\", \"#2B3F50\", \"#604086\"])  \n",
        "all_results.style.background_gradient(cmap=cmap)\n"
      ]
    },
    {
      "cell_type": "code",
      "execution_count": 58,
      "metadata": {},
      "outputs": [
        {
          "data": {
            "text/html": [
              "<style>#sk-container-id-1 {\n",
              "  /* Definition of color scheme common for light and dark mode */\n",
              "  --sklearn-color-text: black;\n",
              "  --sklearn-color-line: gray;\n",
              "  /* Definition of color scheme for unfitted estimators */\n",
              "  --sklearn-color-unfitted-level-0: #fff5e6;\n",
              "  --sklearn-color-unfitted-level-1: #f6e4d2;\n",
              "  --sklearn-color-unfitted-level-2: #ffe0b3;\n",
              "  --sklearn-color-unfitted-level-3: chocolate;\n",
              "  /* Definition of color scheme for fitted estimators */\n",
              "  --sklearn-color-fitted-level-0: #f0f8ff;\n",
              "  --sklearn-color-fitted-level-1: #d4ebff;\n",
              "  --sklearn-color-fitted-level-2: #b3dbfd;\n",
              "  --sklearn-color-fitted-level-3: cornflowerblue;\n",
              "\n",
              "  /* Specific color for light theme */\n",
              "  --sklearn-color-text-on-default-background: var(--sg-text-color, var(--theme-code-foreground, var(--jp-content-font-color1, black)));\n",
              "  --sklearn-color-background: var(--sg-background-color, var(--theme-background, var(--jp-layout-color0, white)));\n",
              "  --sklearn-color-border-box: var(--sg-text-color, var(--theme-code-foreground, var(--jp-content-font-color1, black)));\n",
              "  --sklearn-color-icon: #696969;\n",
              "\n",
              "  @media (prefers-color-scheme: dark) {\n",
              "    /* Redefinition of color scheme for dark theme */\n",
              "    --sklearn-color-text-on-default-background: var(--sg-text-color, var(--theme-code-foreground, var(--jp-content-font-color1, white)));\n",
              "    --sklearn-color-background: var(--sg-background-color, var(--theme-background, var(--jp-layout-color0, #111)));\n",
              "    --sklearn-color-border-box: var(--sg-text-color, var(--theme-code-foreground, var(--jp-content-font-color1, white)));\n",
              "    --sklearn-color-icon: #878787;\n",
              "  }\n",
              "}\n",
              "\n",
              "#sk-container-id-1 {\n",
              "  color: var(--sklearn-color-text);\n",
              "}\n",
              "\n",
              "#sk-container-id-1 pre {\n",
              "  padding: 0;\n",
              "}\n",
              "\n",
              "#sk-container-id-1 input.sk-hidden--visually {\n",
              "  border: 0;\n",
              "  clip: rect(1px 1px 1px 1px);\n",
              "  clip: rect(1px, 1px, 1px, 1px);\n",
              "  height: 1px;\n",
              "  margin: -1px;\n",
              "  overflow: hidden;\n",
              "  padding: 0;\n",
              "  position: absolute;\n",
              "  width: 1px;\n",
              "}\n",
              "\n",
              "#sk-container-id-1 div.sk-dashed-wrapped {\n",
              "  border: 1px dashed var(--sklearn-color-line);\n",
              "  margin: 0 0.4em 0.5em 0.4em;\n",
              "  box-sizing: border-box;\n",
              "  padding-bottom: 0.4em;\n",
              "  background-color: var(--sklearn-color-background);\n",
              "}\n",
              "\n",
              "#sk-container-id-1 div.sk-container {\n",
              "  /* jupyter's `normalize.less` sets `[hidden] { display: none; }`\n",
              "     but bootstrap.min.css set `[hidden] { display: none !important; }`\n",
              "     so we also need the `!important` here to be able to override the\n",
              "     default hidden behavior on the sphinx rendered scikit-learn.org.\n",
              "     See: https://github.com/scikit-learn/scikit-learn/issues/21755 */\n",
              "  display: inline-block !important;\n",
              "  position: relative;\n",
              "}\n",
              "\n",
              "#sk-container-id-1 div.sk-text-repr-fallback {\n",
              "  display: none;\n",
              "}\n",
              "\n",
              "div.sk-parallel-item,\n",
              "div.sk-serial,\n",
              "div.sk-item {\n",
              "  /* draw centered vertical line to link estimators */\n",
              "  background-image: linear-gradient(var(--sklearn-color-text-on-default-background), var(--sklearn-color-text-on-default-background));\n",
              "  background-size: 2px 100%;\n",
              "  background-repeat: no-repeat;\n",
              "  background-position: center center;\n",
              "}\n",
              "\n",
              "/* Parallel-specific style estimator block */\n",
              "\n",
              "#sk-container-id-1 div.sk-parallel-item::after {\n",
              "  content: \"\";\n",
              "  width: 100%;\n",
              "  border-bottom: 2px solid var(--sklearn-color-text-on-default-background);\n",
              "  flex-grow: 1;\n",
              "}\n",
              "\n",
              "#sk-container-id-1 div.sk-parallel {\n",
              "  display: flex;\n",
              "  align-items: stretch;\n",
              "  justify-content: center;\n",
              "  background-color: var(--sklearn-color-background);\n",
              "  position: relative;\n",
              "}\n",
              "\n",
              "#sk-container-id-1 div.sk-parallel-item {\n",
              "  display: flex;\n",
              "  flex-direction: column;\n",
              "}\n",
              "\n",
              "#sk-container-id-1 div.sk-parallel-item:first-child::after {\n",
              "  align-self: flex-end;\n",
              "  width: 50%;\n",
              "}\n",
              "\n",
              "#sk-container-id-1 div.sk-parallel-item:last-child::after {\n",
              "  align-self: flex-start;\n",
              "  width: 50%;\n",
              "}\n",
              "\n",
              "#sk-container-id-1 div.sk-parallel-item:only-child::after {\n",
              "  width: 0;\n",
              "}\n",
              "\n",
              "/* Serial-specific style estimator block */\n",
              "\n",
              "#sk-container-id-1 div.sk-serial {\n",
              "  display: flex;\n",
              "  flex-direction: column;\n",
              "  align-items: center;\n",
              "  background-color: var(--sklearn-color-background);\n",
              "  padding-right: 1em;\n",
              "  padding-left: 1em;\n",
              "}\n",
              "\n",
              "\n",
              "/* Toggleable style: style used for estimator/Pipeline/ColumnTransformer box that is\n",
              "clickable and can be expanded/collapsed.\n",
              "- Pipeline and ColumnTransformer use this feature and define the default style\n",
              "- Estimators will overwrite some part of the style using the `sk-estimator` class\n",
              "*/\n",
              "\n",
              "/* Pipeline and ColumnTransformer style (default) */\n",
              "\n",
              "#sk-container-id-1 div.sk-toggleable {\n",
              "  /* Default theme specific background. It is overwritten whether we have a\n",
              "  specific estimator or a Pipeline/ColumnTransformer */\n",
              "  background-color: var(--sklearn-color-background);\n",
              "}\n",
              "\n",
              "/* Toggleable label */\n",
              "#sk-container-id-1 label.sk-toggleable__label {\n",
              "  cursor: pointer;\n",
              "  display: block;\n",
              "  width: 100%;\n",
              "  margin-bottom: 0;\n",
              "  padding: 0.5em;\n",
              "  box-sizing: border-box;\n",
              "  text-align: center;\n",
              "}\n",
              "\n",
              "#sk-container-id-1 label.sk-toggleable__label-arrow:before {\n",
              "  /* Arrow on the left of the label */\n",
              "  content: \"▸\";\n",
              "  float: left;\n",
              "  margin-right: 0.25em;\n",
              "  color: var(--sklearn-color-icon);\n",
              "}\n",
              "\n",
              "#sk-container-id-1 label.sk-toggleable__label-arrow:hover:before {\n",
              "  color: var(--sklearn-color-text);\n",
              "}\n",
              "\n",
              "/* Toggleable content - dropdown */\n",
              "\n",
              "#sk-container-id-1 div.sk-toggleable__content {\n",
              "  max-height: 0;\n",
              "  max-width: 0;\n",
              "  overflow: hidden;\n",
              "  text-align: left;\n",
              "  /* unfitted */\n",
              "  background-color: var(--sklearn-color-unfitted-level-0);\n",
              "}\n",
              "\n",
              "#sk-container-id-1 div.sk-toggleable__content.fitted {\n",
              "  /* fitted */\n",
              "  background-color: var(--sklearn-color-fitted-level-0);\n",
              "}\n",
              "\n",
              "#sk-container-id-1 div.sk-toggleable__content pre {\n",
              "  margin: 0.2em;\n",
              "  border-radius: 0.25em;\n",
              "  color: var(--sklearn-color-text);\n",
              "  /* unfitted */\n",
              "  background-color: var(--sklearn-color-unfitted-level-0);\n",
              "}\n",
              "\n",
              "#sk-container-id-1 div.sk-toggleable__content.fitted pre {\n",
              "  /* unfitted */\n",
              "  background-color: var(--sklearn-color-fitted-level-0);\n",
              "}\n",
              "\n",
              "#sk-container-id-1 input.sk-toggleable__control:checked~div.sk-toggleable__content {\n",
              "  /* Expand drop-down */\n",
              "  max-height: 200px;\n",
              "  max-width: 100%;\n",
              "  overflow: auto;\n",
              "}\n",
              "\n",
              "#sk-container-id-1 input.sk-toggleable__control:checked~label.sk-toggleable__label-arrow:before {\n",
              "  content: \"▾\";\n",
              "}\n",
              "\n",
              "/* Pipeline/ColumnTransformer-specific style */\n",
              "\n",
              "#sk-container-id-1 div.sk-label input.sk-toggleable__control:checked~label.sk-toggleable__label {\n",
              "  color: var(--sklearn-color-text);\n",
              "  background-color: var(--sklearn-color-unfitted-level-2);\n",
              "}\n",
              "\n",
              "#sk-container-id-1 div.sk-label.fitted input.sk-toggleable__control:checked~label.sk-toggleable__label {\n",
              "  background-color: var(--sklearn-color-fitted-level-2);\n",
              "}\n",
              "\n",
              "/* Estimator-specific style */\n",
              "\n",
              "/* Colorize estimator box */\n",
              "#sk-container-id-1 div.sk-estimator input.sk-toggleable__control:checked~label.sk-toggleable__label {\n",
              "  /* unfitted */\n",
              "  background-color: var(--sklearn-color-unfitted-level-2);\n",
              "}\n",
              "\n",
              "#sk-container-id-1 div.sk-estimator.fitted input.sk-toggleable__control:checked~label.sk-toggleable__label {\n",
              "  /* fitted */\n",
              "  background-color: var(--sklearn-color-fitted-level-2);\n",
              "}\n",
              "\n",
              "#sk-container-id-1 div.sk-label label.sk-toggleable__label,\n",
              "#sk-container-id-1 div.sk-label label {\n",
              "  /* The background is the default theme color */\n",
              "  color: var(--sklearn-color-text-on-default-background);\n",
              "}\n",
              "\n",
              "/* On hover, darken the color of the background */\n",
              "#sk-container-id-1 div.sk-label:hover label.sk-toggleable__label {\n",
              "  color: var(--sklearn-color-text);\n",
              "  background-color: var(--sklearn-color-unfitted-level-2);\n",
              "}\n",
              "\n",
              "/* Label box, darken color on hover, fitted */\n",
              "#sk-container-id-1 div.sk-label.fitted:hover label.sk-toggleable__label.fitted {\n",
              "  color: var(--sklearn-color-text);\n",
              "  background-color: var(--sklearn-color-fitted-level-2);\n",
              "}\n",
              "\n",
              "/* Estimator label */\n",
              "\n",
              "#sk-container-id-1 div.sk-label label {\n",
              "  font-family: monospace;\n",
              "  font-weight: bold;\n",
              "  display: inline-block;\n",
              "  line-height: 1.2em;\n",
              "}\n",
              "\n",
              "#sk-container-id-1 div.sk-label-container {\n",
              "  text-align: center;\n",
              "}\n",
              "\n",
              "/* Estimator-specific */\n",
              "#sk-container-id-1 div.sk-estimator {\n",
              "  font-family: monospace;\n",
              "  border: 1px dotted var(--sklearn-color-border-box);\n",
              "  border-radius: 0.25em;\n",
              "  box-sizing: border-box;\n",
              "  margin-bottom: 0.5em;\n",
              "  /* unfitted */\n",
              "  background-color: var(--sklearn-color-unfitted-level-0);\n",
              "}\n",
              "\n",
              "#sk-container-id-1 div.sk-estimator.fitted {\n",
              "  /* fitted */\n",
              "  background-color: var(--sklearn-color-fitted-level-0);\n",
              "}\n",
              "\n",
              "/* on hover */\n",
              "#sk-container-id-1 div.sk-estimator:hover {\n",
              "  /* unfitted */\n",
              "  background-color: var(--sklearn-color-unfitted-level-2);\n",
              "}\n",
              "\n",
              "#sk-container-id-1 div.sk-estimator.fitted:hover {\n",
              "  /* fitted */\n",
              "  background-color: var(--sklearn-color-fitted-level-2);\n",
              "}\n",
              "\n",
              "/* Specification for estimator info (e.g. \"i\" and \"?\") */\n",
              "\n",
              "/* Common style for \"i\" and \"?\" */\n",
              "\n",
              ".sk-estimator-doc-link,\n",
              "a:link.sk-estimator-doc-link,\n",
              "a:visited.sk-estimator-doc-link {\n",
              "  float: right;\n",
              "  font-size: smaller;\n",
              "  line-height: 1em;\n",
              "  font-family: monospace;\n",
              "  background-color: var(--sklearn-color-background);\n",
              "  border-radius: 1em;\n",
              "  height: 1em;\n",
              "  width: 1em;\n",
              "  text-decoration: none !important;\n",
              "  margin-left: 1ex;\n",
              "  /* unfitted */\n",
              "  border: var(--sklearn-color-unfitted-level-1) 1pt solid;\n",
              "  color: var(--sklearn-color-unfitted-level-1);\n",
              "}\n",
              "\n",
              ".sk-estimator-doc-link.fitted,\n",
              "a:link.sk-estimator-doc-link.fitted,\n",
              "a:visited.sk-estimator-doc-link.fitted {\n",
              "  /* fitted */\n",
              "  border: var(--sklearn-color-fitted-level-1) 1pt solid;\n",
              "  color: var(--sklearn-color-fitted-level-1);\n",
              "}\n",
              "\n",
              "/* On hover */\n",
              "div.sk-estimator:hover .sk-estimator-doc-link:hover,\n",
              ".sk-estimator-doc-link:hover,\n",
              "div.sk-label-container:hover .sk-estimator-doc-link:hover,\n",
              ".sk-estimator-doc-link:hover {\n",
              "  /* unfitted */\n",
              "  background-color: var(--sklearn-color-unfitted-level-3);\n",
              "  color: var(--sklearn-color-background);\n",
              "  text-decoration: none;\n",
              "}\n",
              "\n",
              "div.sk-estimator.fitted:hover .sk-estimator-doc-link.fitted:hover,\n",
              ".sk-estimator-doc-link.fitted:hover,\n",
              "div.sk-label-container:hover .sk-estimator-doc-link.fitted:hover,\n",
              ".sk-estimator-doc-link.fitted:hover {\n",
              "  /* fitted */\n",
              "  background-color: var(--sklearn-color-fitted-level-3);\n",
              "  color: var(--sklearn-color-background);\n",
              "  text-decoration: none;\n",
              "}\n",
              "\n",
              "/* Span, style for the box shown on hovering the info icon */\n",
              ".sk-estimator-doc-link span {\n",
              "  display: none;\n",
              "  z-index: 9999;\n",
              "  position: relative;\n",
              "  font-weight: normal;\n",
              "  right: .2ex;\n",
              "  padding: .5ex;\n",
              "  margin: .5ex;\n",
              "  width: min-content;\n",
              "  min-width: 20ex;\n",
              "  max-width: 50ex;\n",
              "  color: var(--sklearn-color-text);\n",
              "  box-shadow: 2pt 2pt 4pt #999;\n",
              "  /* unfitted */\n",
              "  background: var(--sklearn-color-unfitted-level-0);\n",
              "  border: .5pt solid var(--sklearn-color-unfitted-level-3);\n",
              "}\n",
              "\n",
              ".sk-estimator-doc-link.fitted span {\n",
              "  /* fitted */\n",
              "  background: var(--sklearn-color-fitted-level-0);\n",
              "  border: var(--sklearn-color-fitted-level-3);\n",
              "}\n",
              "\n",
              ".sk-estimator-doc-link:hover span {\n",
              "  display: block;\n",
              "}\n",
              "\n",
              "/* \"?\"-specific style due to the `<a>` HTML tag */\n",
              "\n",
              "#sk-container-id-1 a.estimator_doc_link {\n",
              "  float: right;\n",
              "  font-size: 1rem;\n",
              "  line-height: 1em;\n",
              "  font-family: monospace;\n",
              "  background-color: var(--sklearn-color-background);\n",
              "  border-radius: 1rem;\n",
              "  height: 1rem;\n",
              "  width: 1rem;\n",
              "  text-decoration: none;\n",
              "  /* unfitted */\n",
              "  color: var(--sklearn-color-unfitted-level-1);\n",
              "  border: var(--sklearn-color-unfitted-level-1) 1pt solid;\n",
              "}\n",
              "\n",
              "#sk-container-id-1 a.estimator_doc_link.fitted {\n",
              "  /* fitted */\n",
              "  border: var(--sklearn-color-fitted-level-1) 1pt solid;\n",
              "  color: var(--sklearn-color-fitted-level-1);\n",
              "}\n",
              "\n",
              "/* On hover */\n",
              "#sk-container-id-1 a.estimator_doc_link:hover {\n",
              "  /* unfitted */\n",
              "  background-color: var(--sklearn-color-unfitted-level-3);\n",
              "  color: var(--sklearn-color-background);\n",
              "  text-decoration: none;\n",
              "}\n",
              "\n",
              "#sk-container-id-1 a.estimator_doc_link.fitted:hover {\n",
              "  /* fitted */\n",
              "  background-color: var(--sklearn-color-fitted-level-3);\n",
              "}\n",
              "</style><div id=\"sk-container-id-1\" class=\"sk-top-container\"><div class=\"sk-text-repr-fallback\"><pre>Pipeline(steps=[(&#x27;vect&#x27;, CountVectorizer(max_features=5000)),\n",
              "                (&#x27;clf&#x27;, MultinomialNB())])</pre><b>In a Jupyter environment, please rerun this cell to show the HTML representation or trust the notebook. <br />On GitHub, the HTML representation is unable to render, please try loading this page with nbviewer.org.</b></div><div class=\"sk-container\" hidden><div class=\"sk-item sk-dashed-wrapped\"><div class=\"sk-label-container\"><div class=\"sk-label fitted sk-toggleable\"><input class=\"sk-toggleable__control sk-hidden--visually\" id=\"sk-estimator-id-1\" type=\"checkbox\" ><label for=\"sk-estimator-id-1\" class=\"sk-toggleable__label fitted sk-toggleable__label-arrow fitted\">&nbsp;&nbsp;Pipeline<a class=\"sk-estimator-doc-link fitted\" rel=\"noreferrer\" target=\"_blank\" href=\"https://scikit-learn.org/1.5/modules/generated/sklearn.pipeline.Pipeline.html\">?<span>Documentation for Pipeline</span></a><span class=\"sk-estimator-doc-link fitted\">i<span>Fitted</span></span></label><div class=\"sk-toggleable__content fitted\"><pre>Pipeline(steps=[(&#x27;vect&#x27;, CountVectorizer(max_features=5000)),\n",
              "                (&#x27;clf&#x27;, MultinomialNB())])</pre></div> </div></div><div class=\"sk-serial\"><div class=\"sk-item\"><div class=\"sk-estimator fitted sk-toggleable\"><input class=\"sk-toggleable__control sk-hidden--visually\" id=\"sk-estimator-id-2\" type=\"checkbox\" ><label for=\"sk-estimator-id-2\" class=\"sk-toggleable__label fitted sk-toggleable__label-arrow fitted\">&nbsp;CountVectorizer<a class=\"sk-estimator-doc-link fitted\" rel=\"noreferrer\" target=\"_blank\" href=\"https://scikit-learn.org/1.5/modules/generated/sklearn.feature_extraction.text.CountVectorizer.html\">?<span>Documentation for CountVectorizer</span></a></label><div class=\"sk-toggleable__content fitted\"><pre>CountVectorizer(max_features=5000)</pre></div> </div></div><div class=\"sk-item\"><div class=\"sk-estimator fitted sk-toggleable\"><input class=\"sk-toggleable__control sk-hidden--visually\" id=\"sk-estimator-id-3\" type=\"checkbox\" ><label for=\"sk-estimator-id-3\" class=\"sk-toggleable__label fitted sk-toggleable__label-arrow fitted\">&nbsp;MultinomialNB<a class=\"sk-estimator-doc-link fitted\" rel=\"noreferrer\" target=\"_blank\" href=\"https://scikit-learn.org/1.5/modules/generated/sklearn.naive_bayes.MultinomialNB.html\">?<span>Documentation for MultinomialNB</span></a></label><div class=\"sk-toggleable__content fitted\"><pre>MultinomialNB()</pre></div> </div></div></div></div></div></div>"
            ],
            "text/plain": [
              "Pipeline(steps=[('vect', CountVectorizer(max_features=5000)),\n",
              "                ('clf', MultinomialNB())])"
            ]
          },
          "execution_count": 58,
          "metadata": {},
          "output_type": "execute_result"
        }
      ],
      "source": [
        "from sklearn.feature_extraction.text import CountVectorizer\n",
        "from sklearn.naive_bayes import MultinomialNB\n",
        "from sklearn.metrics import classification_report, confusion_matrix, ConfusionMatrixDisplay\n",
        "from sklearn.pipeline import Pipeline\n",
        "import numpy as np\n",
        "import matplotlib.pyplot as plt\n",
        "\n",
        "# 1) build best model pipeline (BoW + MultinomialNB)\n",
        "best_pipe = Pipeline([\n",
        "    (\"vect\", CountVectorizer(max_features=5000)),\n",
        "    (\"clf\", MultinomialNB())\n",
        "])\n",
        "\n",
        "# 2) fit best model on full training data\n",
        "best_pipe.fit(X_train, y_train)\n",
        "\n"
      ]
    },
    {
      "cell_type": "code",
      "execution_count": 59,
      "metadata": {},
      "outputs": [
        {
          "name": "stdout",
          "output_type": "stream",
          "text": [
            "              precision    recall  f1-score   support\n",
            "\n",
            "    negative     0.7778    0.8305    0.8033       177\n",
            "    positive     0.8235    0.7692    0.7955       182\n",
            "\n",
            "    accuracy                         0.7994       359\n",
            "   macro avg     0.8007    0.7999    0.7994       359\n",
            "weighted avg     0.8010    0.7994    0.7993       359\n",
            "\n"
          ]
        },
        {
          "data": {
            "image/png": "[encoded data removed]",
            "text/plain": [
              "<Figure size 640x480 with 2 Axes>"
            ]
          },
          "metadata": {},
          "output_type": "display_data"
        }
      ],
      "source": [
        "# 3) Evaluation\n",
        "y_pred = best_pipe.predict(X_test)\n",
        "print(classification_report(y_test, y_pred, digits=4))\n",
        "\n",
        "cm = confusion_matrix(y_test, y_pred, labels=best_pipe.classes_)\n",
        "disp = ConfusionMatrixDisplay(confusion_matrix=cm, display_labels=best_pipe.classes_)\n",
        "disp.plot(cmap=\"Blues\")\n",
        "plt.title(\"Confusion Matrix — BoW + MultinomialNB\")\n",
        "plt.show()"
      ]
    },
    {
      "cell_type": "code",
      "execution_count": 60,
      "metadata": {},
      "outputs": [
        {
          "name": "stdout",
          "output_type": "stream",
          "text": [
            "Index: 3\n",
            "Original: @kenburbary You'll love your Kindle2. I've had mine for a few months and never looked back. The new big one is huge! No need for remorse! :)\n",
            "Cleaned : love kindle mine months never looked back new big one huge need remorse\n",
            "True    : positive\n",
            "Pred    : negative\n",
            "--------------------------------------------------------------------------------\n",
            "Index: 4\n",
            "Original: @mikefish  Fair enough. But i have the Kindle2 and I think it's perfect  :)\n",
            "Cleaned : fair enough kindle think perfect\n",
            "True    : positive\n",
            "Pred    : negative\n",
            "--------------------------------------------------------------------------------\n",
            "Index: 14\n",
            "Original: #lebron best athlete of our generation, if not all time (basketball related) I don't want to get into inter-sport debates about   __1/2\n",
            "Cleaned : best athlete generation time basketball related want get inter sport debates\n",
            "True    : positive\n",
            "Pred    : negative\n",
            "--------------------------------------------------------------------------------\n",
            "Index: 18\n",
            "Original: @Pmillzz lebron IS THE BOSS\n",
            "Cleaned : lebron boss\n",
            "True    : positive\n",
            "Pred    : negative\n",
            "--------------------------------------------------------------------------------\n",
            "Index: 21\n",
            "Original: @wordwhizkid Lebron is a beast... nobody in the NBA comes even close.\n",
            "Cleaned : lebron beast nobody nba comes even close\n",
            "True    : positive\n",
            "Pred    : negative\n",
            "--------------------------------------------------------------------------------\n",
            "Index: 22\n",
            "Original: downloading apps for my iphone! So much fun :-) There literally is an app for just about anything.\n",
            "Cleaned : downloading apps iphone much fun literally app anything\n",
            "True    : positive\n",
            "Pred    : negative\n",
            "--------------------------------------------------------------------------------\n",
            "Index: 23\n",
            "Original: good news, just had a call from the Visa office, saying everything is fine.....what a relief! I am sick of scams out there! Stealing!\n",
            "Cleaned : good news call visa office saying everything fine relief sick scams stealing\n",
            "True    : positive\n",
            "Pred    : negative\n",
            "--------------------------------------------------------------------------------\n",
            "Index: 31\n",
            "Original: US planning to resume the military tribunals at Guantanamo Bay... only this time those on trial will be AIG execs and Chrysler debt holders\n",
            "Cleaned : us planning resume military tribunals guantanamo bay time trial aig execs chrysler debt holders\n",
            "True    : negative\n",
            "Pred    : positive\n",
            "--------------------------------------------------------------------------------\n",
            "Index: 34\n",
            "Original: @sekseemess no. I'm not itchy for now. Maybe later, lol.\n",
            "Cleaned : itchy maybe later lol\n",
            "True    : negative\n",
            "Pred    : positive\n",
            "--------------------------------------------------------------------------------\n",
            "Index: 35\n",
            "Original: RT @jessverr I love the nerdy Stanford human biology videos - makes me miss school. http://bit.ly/13t7NR\n",
            "Cleaned : rt love nerdy stanford human biology videos makes miss school\n",
            "True    : positive\n",
            "Pred    : negative\n",
            "--------------------------------------------------------------------------------\n"
          ]
        }
      ],
      "source": [
        "# 4) Wrong predictions analysis\n",
        "mis_idx = np.where(y_pred != y_test)[0]\n",
        "for i in mis_idx[:10]:\n",
        "    print(f\"Index: {i}\")\n",
        "    print(\"Original:\", test_filtered.loc[i, \"text\"])\n",
        "    print(\"Cleaned :\", test_filtered.loc[i, \"Clean_Text\"])\n",
        "    print(\"True    :\", y_test.iloc[i])\n",
        "    print(\"Pred    :\", y_pred[i])\n",
        "    print(\"-\"*80)"
      ]
    },
    {
      "cell_type": "markdown",
      "metadata": {},
      "source": [
        "## Discussion of Common Issues\n",
        "\n",
        "Several classification errors were observed, often due to the following factors:\n",
        "\n",
        "### 1. Positive Tweets Misclassified as Negative\n",
        "Some tweets containing clearly positive words like **“love”**, **“perfect”**, or **“fun”** were misclassified as negative. This often happens when:\n",
        "- These words appear in **neutral or ambiguous contexts** (e.g., references to *Kindle*, *apps*, or *sports*).\n",
        "- The model does not **strongly associate** such terms with positivity in the training data.\n",
        "\n",
        "### 2. Short Texts\n",
        "Examples like:\n",
        "- *“lebron IS THE BOSS”*\n",
        "- *“itchy maybe later lol”*\n",
        "\n",
        "These are too short or lack sufficient context for the model to accurately infer sentiment. The limited word count restricts the feature space for learning meaningful patterns.\n",
        "\n",
        "### 3. Sarcasm or Irony\n",
        "Tweets that include sarcasm or irony are particularly challenging. For example:\n",
        "- *“Oh great, another Monday *\n",
        "\n",
        "Bag-of-words and traditional word embeddings often fail to capture tone or implied meaning, which leads to incorrect sentiment predictions.\n",
        "\n",
        "### 4. Domain-Specific Vocabulary\n",
        "Words and entities like:\n",
        "- *“NBA”*\n",
        "- *“Kindle”*\n",
        "- *“Visa office”*\n",
        "\n",
        "These may not appear frequently (or at all) in the training set. As a result, the model lacks context to understand their typical sentiment association, leading to misclassification.\n",
        "\n",
        "---\n",
        "\n",
        "> **Conclusion**: These issues highlight the limitations of shallow text representations like bag-of-words or average word embeddings, especially in handling **context, tone, and domain-specific content**. More advanced models (e.g., transformers or fine-tuned contextual embeddings) may help mitigate these problems.\n"
      ]
    },
    {
      "cell_type": "markdown",
      "metadata": {},
      "source": [
        "\n",
        "\n",
        "<p style=\"font-family: 'Times New Roman'; color: pink; font-size: 250%; text-align: center; border-radius: 20px 60px;\">\n",
        "    Save Model Pipeline\n",
        "\n",
        "</p>\n"
      ]
    },
    {
      "cell_type": "code",
      "execution_count": 61,
      "metadata": {},
      "outputs": [
        {
          "name": "stdout",
          "output_type": "stream",
          "text": [
            " Model saved!\n"
          ]
        }
      ],
      "source": [
        "import joblib\n",
        "\n",
        "# Save the pipeline\n",
        "joblib.dump(best_pipe, \"sentiment_model.pkl\")\n",
        "print(\" Model saved!\")\n"
      ]
    },
    {
      "cell_type": "code",
      "execution_count": null,
      "metadata": {},
      "outputs": [],
      "source": [
        "# Load and test or deployed the saved model \n",
        "'''loaded_model = joblib.load(\"sentiment_model.pkl\")'''"
      ]
    },
    {
      "cell_type": "markdown",
      "metadata": {},
      "source": [
        "\n",
        "\n",
        "\n",
        "<p style=\"font-family: 'Times New Roman'; color: pink; font-size: 250%; text-align: center; border-radius: 20px 60px;\">\n",
        "    Deployment Step\n",
        "\n",
        "</p>\n",
        "\n",
        "### you will find python file \"app.py\" about this section!\n",
        "\n",
        " ***Good luck*** "
      ]
    }
  ],
  "metadata": {
    "colab": {
      "provenance": []
    },
    "kernelspec": {
      "display_name": "base",
      "language": "python",
      "name": "python3"
    },
    "language_info": {
      "codemirror_mode": {
        "name": "ipython",
        "version": 3
      },
      "file_extension": ".py",
      "mimetype": "text/x-python",
      "name": "python",
      "nbconvert_exporter": "python",
      "pygments_lexer": "ipython3",
      "version": "3.12.7"
    }
  },
  "nbformat": 4,
  "nbformat_minor": 0
}
